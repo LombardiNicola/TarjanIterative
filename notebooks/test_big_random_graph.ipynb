{
 "cells": [
  {
   "cell_type": "code",
   "execution_count": null,
   "metadata": {},
   "outputs": [],
   "source": [
    "import sys\n",
    "sys.path.append(\".\")\n",
    "sys.path.append(\"..\")\n",
    "from TarjanSCC import TarjanSCC\n",
    "import random"
   ]
  },
  {
   "cell_type": "code",
   "execution_count": null,
   "metadata": {},
   "outputs": [],
   "source": [
    "# create a random graph with N vertices and M edges\n",
    "N = random.randint(10000, 50000)\n",
    "M = random.randint(100000, 500000)\n",
    "graph = {i: set() for i in range(0, N)}\n",
    "while M > 0: # collisions will be rare\n",
    "    curr_i = random.randint(0, N-1)\n",
    "    curr_j = (curr_i + random.randint(0, N - 2)) % N\n",
    "    if curr_j in graph[curr_i]:\n",
    "        continue\n",
    "    else:\n",
    "        M -= 1\n",
    "        graph[curr_i].add(curr_j)\n",
    "graph = { k:list(graph[k]) for k in graph }"
   ]
  },
  {
   "cell_type": "code",
   "execution_count": null,
   "metadata": {},
   "outputs": [],
   "source": [
    "tarjan = TarjanSCC(graph, N)\n",
    "sccs = tarjan.find_sccs()\n",
    "condensation_graph = tarjan.get_condensation_graph()"
   ]
  }
 ],
 "metadata": {
  "language_info": {
   "name": "python"
  }
 },
 "nbformat": 4,
 "nbformat_minor": 2
}
